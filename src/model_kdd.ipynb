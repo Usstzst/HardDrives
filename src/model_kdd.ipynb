{
 "cells": [
  {
   "cell_type": "code",
   "execution_count": 22,
   "metadata": {
    "tags": []
   },
   "outputs": [],
   "source": [
    "import numpy as np\n",
    "import pandas as pd\n",
    "import matplotlib.pyplot as plt\n",
    "\n",
    "from model.kdd import KDD_Hardcoded\n",
    "from utils import FAR, FDR\n",
    "\n",
    "%matplotlib inline"
   ]
  },
  {
   "cell_type": "code",
   "execution_count": 23,
   "metadata": {
    "tags": []
   },
   "outputs": [],
   "source": [
    "TEST_DATASET = '../res/'+'model_2021_ST4000DM000.csv'"
   ]
  },
  {
   "cell_type": "code",
   "execution_count": 24,
   "metadata": {
    "tags": []
   },
   "outputs": [],
   "source": [
    "def compute_metrics(y_true, y_pred):\n",
    "    return {\n",
    "        'FAR': FAR(y_true, y_pred),\n",
    "        'FDR': FDR(y_true, y_pred)\n",
    "    }"
   ]
  },
  {
   "cell_type": "code",
   "execution_count": 26,
   "metadata": {},
   "outputs": [
    {
     "name": "stdout",
     "output_type": "stream",
     "text": [
      "(397677, 179)\n"
     ]
    },
    {
     "data": {
      "text/html": [
       "<div>\n",
       "<style scoped>\n",
       "    .dataframe tbody tr th:only-of-type {\n",
       "        vertical-align: middle;\n",
       "    }\n",
       "\n",
       "    .dataframe tbody tr th {\n",
       "        vertical-align: top;\n",
       "    }\n",
       "\n",
       "    .dataframe thead th {\n",
       "        text-align: right;\n",
       "    }\n",
       "</style>\n",
       "<table border=\"1\" class=\"dataframe\">\n",
       "  <thead>\n",
       "    <tr style=\"text-align: right;\">\n",
       "      <th></th>\n",
       "      <th>date</th>\n",
       "      <th>serial_number</th>\n",
       "      <th>model</th>\n",
       "      <th>capacity_bytes</th>\n",
       "      <th>failure</th>\n",
       "      <th>smart_1_normalized</th>\n",
       "      <th>smart_1_raw</th>\n",
       "      <th>smart_2_normalized</th>\n",
       "      <th>smart_2_raw</th>\n",
       "      <th>smart_3_normalized</th>\n",
       "      <th>...</th>\n",
       "      <th>smart_171_normalized</th>\n",
       "      <th>smart_171_raw</th>\n",
       "      <th>smart_172_normalized</th>\n",
       "      <th>smart_172_raw</th>\n",
       "      <th>smart_230_normalized</th>\n",
       "      <th>smart_230_raw</th>\n",
       "      <th>smart_244_normalized</th>\n",
       "      <th>smart_244_raw</th>\n",
       "      <th>smart_246_normalized</th>\n",
       "      <th>smart_246_raw</th>\n",
       "    </tr>\n",
       "  </thead>\n",
       "  <tbody>\n",
       "    <tr>\n",
       "      <th>21398</th>\n",
       "      <td>2021-01-02</td>\n",
       "      <td>Z304JW5L</td>\n",
       "      <td>ST4000DM000</td>\n",
       "      <td>4000787030016</td>\n",
       "      <td>0</td>\n",
       "      <td>117.0</td>\n",
       "      <td>142271992.0</td>\n",
       "      <td>NaN</td>\n",
       "      <td>NaN</td>\n",
       "      <td>92.0</td>\n",
       "      <td>...</td>\n",
       "      <td>NaN</td>\n",
       "      <td>NaN</td>\n",
       "      <td>NaN</td>\n",
       "      <td>NaN</td>\n",
       "      <td>NaN</td>\n",
       "      <td>NaN</td>\n",
       "      <td>NaN</td>\n",
       "      <td>NaN</td>\n",
       "      <td>NaN</td>\n",
       "      <td>NaN</td>\n",
       "    </tr>\n",
       "    <tr>\n",
       "      <th>40305</th>\n",
       "      <td>2021-01-03</td>\n",
       "      <td>Z304JW5L</td>\n",
       "      <td>ST4000DM000</td>\n",
       "      <td>4000787030016</td>\n",
       "      <td>0</td>\n",
       "      <td>104.0</td>\n",
       "      <td>7285200.0</td>\n",
       "      <td>NaN</td>\n",
       "      <td>NaN</td>\n",
       "      <td>92.0</td>\n",
       "      <td>...</td>\n",
       "      <td>NaN</td>\n",
       "      <td>NaN</td>\n",
       "      <td>NaN</td>\n",
       "      <td>NaN</td>\n",
       "      <td>NaN</td>\n",
       "      <td>NaN</td>\n",
       "      <td>NaN</td>\n",
       "      <td>NaN</td>\n",
       "      <td>NaN</td>\n",
       "      <td>NaN</td>\n",
       "    </tr>\n",
       "    <tr>\n",
       "      <th>68090</th>\n",
       "      <td>2021-01-04</td>\n",
       "      <td>Z304JM6A</td>\n",
       "      <td>ST4000DM000</td>\n",
       "      <td>4000787030016</td>\n",
       "      <td>0</td>\n",
       "      <td>114.0</td>\n",
       "      <td>75080216.0</td>\n",
       "      <td>NaN</td>\n",
       "      <td>NaN</td>\n",
       "      <td>92.0</td>\n",
       "      <td>...</td>\n",
       "      <td>NaN</td>\n",
       "      <td>NaN</td>\n",
       "      <td>NaN</td>\n",
       "      <td>NaN</td>\n",
       "      <td>NaN</td>\n",
       "      <td>NaN</td>\n",
       "      <td>NaN</td>\n",
       "      <td>NaN</td>\n",
       "      <td>NaN</td>\n",
       "      <td>NaN</td>\n",
       "    </tr>\n",
       "    <tr>\n",
       "      <th>59241</th>\n",
       "      <td>2021-01-04</td>\n",
       "      <td>Z304JW5L</td>\n",
       "      <td>ST4000DM000</td>\n",
       "      <td>4000787030016</td>\n",
       "      <td>0</td>\n",
       "      <td>116.0</td>\n",
       "      <td>104215944.0</td>\n",
       "      <td>NaN</td>\n",
       "      <td>NaN</td>\n",
       "      <td>92.0</td>\n",
       "      <td>...</td>\n",
       "      <td>NaN</td>\n",
       "      <td>NaN</td>\n",
       "      <td>NaN</td>\n",
       "      <td>NaN</td>\n",
       "      <td>NaN</td>\n",
       "      <td>NaN</td>\n",
       "      <td>NaN</td>\n",
       "      <td>NaN</td>\n",
       "      <td>NaN</td>\n",
       "      <td>NaN</td>\n",
       "    </tr>\n",
       "    <tr>\n",
       "      <th>87026</th>\n",
       "      <td>2021-01-05</td>\n",
       "      <td>Z304JM6A</td>\n",
       "      <td>ST4000DM000</td>\n",
       "      <td>4000787030016</td>\n",
       "      <td>0</td>\n",
       "      <td>115.0</td>\n",
       "      <td>99115592.0</td>\n",
       "      <td>NaN</td>\n",
       "      <td>NaN</td>\n",
       "      <td>92.0</td>\n",
       "      <td>...</td>\n",
       "      <td>NaN</td>\n",
       "      <td>NaN</td>\n",
       "      <td>NaN</td>\n",
       "      <td>NaN</td>\n",
       "      <td>NaN</td>\n",
       "      <td>NaN</td>\n",
       "      <td>NaN</td>\n",
       "      <td>NaN</td>\n",
       "      <td>NaN</td>\n",
       "      <td>NaN</td>\n",
       "    </tr>\n",
       "  </tbody>\n",
       "</table>\n",
       "<p>5 rows × 179 columns</p>\n",
       "</div>"
      ],
      "text/plain": [
       "             date serial_number        model  capacity_bytes  failure  \\\n",
       "21398  2021-01-02      Z304JW5L  ST4000DM000   4000787030016        0   \n",
       "40305  2021-01-03      Z304JW5L  ST4000DM000   4000787030016        0   \n",
       "68090  2021-01-04      Z304JM6A  ST4000DM000   4000787030016        0   \n",
       "59241  2021-01-04      Z304JW5L  ST4000DM000   4000787030016        0   \n",
       "87026  2021-01-05      Z304JM6A  ST4000DM000   4000787030016        0   \n",
       "\n",
       "       smart_1_normalized  smart_1_raw  smart_2_normalized  smart_2_raw  \\\n",
       "21398               117.0  142271992.0                 NaN          NaN   \n",
       "40305               104.0    7285200.0                 NaN          NaN   \n",
       "68090               114.0   75080216.0                 NaN          NaN   \n",
       "59241               116.0  104215944.0                 NaN          NaN   \n",
       "87026               115.0   99115592.0                 NaN          NaN   \n",
       "\n",
       "       smart_3_normalized  ...  smart_171_normalized  smart_171_raw  \\\n",
       "21398                92.0  ...                   NaN            NaN   \n",
       "40305                92.0  ...                   NaN            NaN   \n",
       "68090                92.0  ...                   NaN            NaN   \n",
       "59241                92.0  ...                   NaN            NaN   \n",
       "87026                92.0  ...                   NaN            NaN   \n",
       "\n",
       "       smart_172_normalized  smart_172_raw  smart_230_normalized  \\\n",
       "21398                   NaN            NaN                   NaN   \n",
       "40305                   NaN            NaN                   NaN   \n",
       "68090                   NaN            NaN                   NaN   \n",
       "59241                   NaN            NaN                   NaN   \n",
       "87026                   NaN            NaN                   NaN   \n",
       "\n",
       "       smart_230_raw  smart_244_normalized  smart_244_raw  \\\n",
       "21398            NaN                   NaN            NaN   \n",
       "40305            NaN                   NaN            NaN   \n",
       "68090            NaN                   NaN            NaN   \n",
       "59241            NaN                   NaN            NaN   \n",
       "87026            NaN                   NaN            NaN   \n",
       "\n",
       "       smart_246_normalized  smart_246_raw  \n",
       "21398                   NaN            NaN  \n",
       "40305                   NaN            NaN  \n",
       "68090                   NaN            NaN  \n",
       "59241                   NaN            NaN  \n",
       "87026                   NaN            NaN  \n",
       "\n",
       "[5 rows x 179 columns]"
      ]
     },
     "execution_count": 26,
     "metadata": {},
     "output_type": "execute_result"
    }
   ],
   "source": [
    "data = pd.read_csv(TEST_DATASET)\n",
    "data = data.groupby(['serial_number']).filter(lambda x: len(x) >= 21)\n",
    "data.sort_values(by=['date'], inplace=True)\n",
    "\n",
    "# take data for prediction\n",
    "data = data.groupby('serial_number').tail(21)\n",
    "print(data.shape)\n",
    "data.head()"
   ]
  },
  {
   "cell_type": "code",
   "execution_count": 32,
   "metadata": {},
   "outputs": [
    {
     "data": {
      "text/plain": [
       "0    397355\n",
       "1       322\n",
       "Name: failure, dtype: int64"
      ]
     },
     "execution_count": 32,
     "metadata": {},
     "output_type": "execute_result"
    }
   ],
   "source": [
    "data.failure.value_counts()"
   ]
  },
  {
   "cell_type": "code",
   "execution_count": 33,
   "metadata": {
    "tags": []
   },
   "outputs": [],
   "source": [
    "y = data['failure']\n",
    "X = data.drop(['failure'], axis=1)"
   ]
  },
  {
   "cell_type": "code",
   "execution_count": 34,
   "metadata": {},
   "outputs": [
    {
     "data": {
      "text/plain": [
       "(322, 397355)"
      ]
     },
     "execution_count": 34,
     "metadata": {},
     "output_type": "execute_result"
    }
   ],
   "source": [
    "sum(y == 1), sum(y == 0)"
   ]
  },
  {
   "cell_type": "code",
   "execution_count": 35,
   "metadata": {
    "tags": []
   },
   "outputs": [],
   "source": [
    "predict = KDD_Hardcoded().predict(X)"
   ]
  },
  {
   "cell_type": "code",
   "execution_count": 36,
   "metadata": {},
   "outputs": [
    {
     "data": {
      "text/plain": [
       "{'FAR': '0.094', 'FDR': '0.708'}"
      ]
     },
     "execution_count": 36,
     "metadata": {},
     "output_type": "execute_result"
    }
   ],
   "source": [
    "compute_metrics(np.array(y), predict)"
   ]
  }
 ],
 "metadata": {
  "kernelspec": {
   "display_name": "Python 3",
   "language": "python",
   "name": "python3"
  },
  "language_info": {
   "codemirror_mode": {
    "name": "ipython",
    "version": 3
   },
   "file_extension": ".py",
   "mimetype": "text/x-python",
   "name": "python",
   "nbconvert_exporter": "python",
   "pygments_lexer": "ipython3",
   "version": "3.7.6"
  }
 },
 "nbformat": 4,
 "nbformat_minor": 4
}
