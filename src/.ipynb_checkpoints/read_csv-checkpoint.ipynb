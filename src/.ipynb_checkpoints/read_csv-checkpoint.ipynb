{
 "cells": [
  {
   "cell_type": "code",
   "execution_count": 1,
   "id": "da9ba9dd-f84c-43dd-bfad-b2f776494283",
   "metadata": {},
   "outputs": [],
   "source": [
    "import os\n",
    "import pandas as pd\n",
    "from tqdm import tqdm"
   ]
  },
  {
   "cell_type": "code",
   "execution_count": 16,
   "id": "f675dc5e-9703-4fa1-b9bb-b25036f3ad84",
   "metadata": {},
   "outputs": [],
   "source": [
    "def get_data(path):\n",
    "    df_list = []\n",
    "    for file in tqdm(os.listdir(path)):##进度条\n",
    "        file_path = os.path.join(path, file)\n",
    "        df = pd.read_csv(file_path, encoding='utf-8',error_bad_lines=False,engine='python')\n",
    "        df = df[df.model=='ST4000DM000']\n",
    "        df_list.append(df)\n",
    "    df = pd.concat(df_list)\n",
    "    return df\n",
    "    \n",
    "TEST_PATH = '../data/2019/'\n",
    "test_df = get_data(TEST_PATH)\n",
    "test_df.to_csv(path_or_buf=\"../res/model_2019_ST4000DM000.csv\",index=False)#保存为CSV文件"
   ]
  }
 ],
 "metadata": {
  "kernelspec": {
   "display_name": "Python 3",
   "language": "python",
   "name": "python3"
  },
  "language_info": {
   "codemirror_mode": {
    "name": "ipython",
    "version": 3
   },
   "file_extension": ".py",
   "mimetype": "text/x-python",
   "name": "python",
   "nbconvert_exporter": "python",
   "pygments_lexer": "ipython3",
   "version": "3.7.6"
  }
 },
 "nbformat": 4,
 "nbformat_minor": 5
}
