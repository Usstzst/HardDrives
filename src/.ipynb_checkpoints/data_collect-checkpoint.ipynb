{
 "cells": [
  {
   "cell_type": "code",
   "execution_count": 34,
   "id": "223ee390-530b-414d-bb39-6398b9dcc899",
   "metadata": {},
   "outputs": [],
   "source": [
    "import pandas as pd\n",
    "import numpy as np\n",
    "from datetime import datetime, timedelta\n",
    "import random"
   ]
  },
  {
   "cell_type": "code",
   "execution_count": 32,
   "id": "cbc0551a-7730-48aa-88da-ec1e16910739",
   "metadata": {},
   "outputs": [],
   "source": [
    "def convert_str2date(line):\n",
    "    return datetime.strptime(line, \"%Y-%m-%d\")\n",
    "\n",
    "\n",
    "def convert_date2str(d):\n",
    "    return d.strftime(\"%Y-%m-%d\")\n",
    "\n",
    "def remove_days(date, days):\n",
    "    date = convert_str2date(date)\n",
    "    return convert_date2str(date - timedelta(days=days))"
   ]
  },
  {
   "cell_type": "code",
   "execution_count": 22,
   "id": "e8d695be-b878-425b-baa4-8189f8a0ddf5",
   "metadata": {},
   "outputs": [],
   "source": [
    "path = 'C:/ZST/0. Mine/02-code/HardDriveAnalysis/res/'\n",
    "df = pd.read_csv(path+'stats_2019.csv')"
   ]
  },
  {
   "cell_type": "code",
   "execution_count": 27,
   "id": "6b400b73-9eb6-4096-b473-9b0ae6048915",
   "metadata": {},
   "outputs": [],
   "source": [
    "model = 'ST4000DM000'\n",
    "history = 120\n",
    "health_drives_count = 10*1000"
   ]
  },
  {
   "cell_type": "code",
   "execution_count": 25,
   "id": "b2adc63d-eb77-427f-a8a8-ae37ebe1b2fc",
   "metadata": {},
   "outputs": [],
   "source": [
    "df = df[(df.model == model) & (~df.failure | (df.failure_date == df.last_time_seen))]\n",
    "df['lifetime_days'] = (df.last_time_seen.apply(convert_str2date) - df.first_time_seen.apply(convert_str2date)).apply(lambda x: x.days) + 1\n",
    "df = df[df.lifetime_days >= history]\n",
    "# all failured drives\n",
    "df_failured = df[df.failure]\n",
    "df_healthy = df[~df.failure]"
   ]
  },
  {
   "cell_type": "code",
   "execution_count": 28,
   "id": "8b6aaec5-a0ad-4249-adee-2652c20c1590",
   "metadata": {},
   "outputs": [],
   "source": [
    "df_failured_serial_numbers = {\n",
    "        sn: (remove_days(last_date, history-1), remove_days(last_date, -1))  # [) interval\n",
    "        for sn, last_date in df_failured[['serial_number', 'last_time_seen']].values\n",
    "    }\n",
    "df_failured_serial_numbers_count = len(df_failured_serial_numbers)\n",
    "# form healthy serial numbers\n",
    "if health_drives_count < df_healthy.shape[0]:\n",
    "    df_healthy = df_healthy.sample(health_drives_count)"
   ]
  },
  {
   "cell_type": "code",
   "execution_count": 33,
   "id": "88b3d68b-0ae5-4eaa-8928-29beb9ca2de7",
   "metadata": {},
   "outputs": [],
   "source": [
    "def choose_start_date(obj):\n",
    "    first_date, lifetime_days = convert_str2date(obj['first_time_seen']), obj['lifetime_days']\n",
    "    shift_end = lifetime_days - history - 1\n",
    "    if shift_end < 0:\n",
    "        raise RuntimeError(\"Count of days is too small\")\n",
    "    shift_in_days = random.randint(0, shift_end)\n",
    "    return convert_date2str(first_date + timedelta(days=shift_in_days))\n",
    "\n",
    "def form_interval(row):\n",
    "    start_date = choose_start_date(row)\n",
    "    end_date = remove_days(start_date, -history)\n",
    "    return start_date, end_date\n",
    "\n",
    "df_healthy_serial_numbers = {}\n",
    "for _, row in df_healthy.iterrows():\n",
    "    try:\n",
    "        sn = row['serial_number']\n",
    "        df_healthy_serial_numbers[sn] = form_interval(row)\n",
    "    except RuntimeError:\n",
    "        pass"
   ]
  }
 ],
 "metadata": {
  "kernelspec": {
   "display_name": "Python 3",
   "language": "python",
   "name": "python3"
  },
  "language_info": {
   "codemirror_mode": {
    "name": "ipython",
    "version": 3
   },
   "file_extension": ".py",
   "mimetype": "text/x-python",
   "name": "python",
   "nbconvert_exporter": "python",
   "pygments_lexer": "ipython3",
   "version": "3.7.6"
  }
 },
 "nbformat": 4,
 "nbformat_minor": 5
}
