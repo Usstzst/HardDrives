{
 "cells": [
  {
   "cell_type": "code",
   "execution_count": 4,
   "id": "30c13130-70ef-499f-a82e-a62b66fa38e6",
   "metadata": {},
   "outputs": [
    {
     "name": "stderr",
     "output_type": "stream",
     "text": [
      "C:\\Users\\Julianna\\anaconda3\\lib\\site-packages\\ipykernel_launcher.py:2: FutureWarning: The pandas.np module is deprecated and will be removed from pandas in a future version. Import numpy directly instead\n",
      "  \n"
     ]
    }
   ],
   "source": []
  },
  {
   "cell_type": "code",
   "execution_count": 7,
   "id": "52de5aac-962d-44eb-8ac8-cead46abbeb8",
   "metadata": {},
   "outputs": [],
   "source": []
  },
  {
   "cell_type": "code",
   "execution_count": null,
   "id": "2975b691-3180-403d-8a5b-b52500cb2955",
   "metadata": {},
   "outputs": [],
   "source": [
    "def model_train_predict(model, train_loader,test_loader):\n",
    "    ## Train\n",
    "    criterion = nn.CrossEntropyLoss(weight=torch.FloatTensor([1, 1]))\n",
    "    # criterion = nn.NLLLoss()\n",
    "    optimizer = optim.Adam(model.parameters())\n",
    "\n",
    "    losses = {'train': [], 'test': []}\n",
    "    for epoch_idx in range(120):\n",
    "        train_loss = rnn_train_epoch(model, train_loader, optimizer, criterion)\n",
    "        test_loss = evaluate(model, test_loader, criterion)\n",
    "        losses['train'].append(train_loss)\n",
    "        losses['test'].append(test_loss)\n",
    "        # print(epoch_idx, train_loss, test_loss['loss'], test_loss['FAR'], test_loss['FDR'])\n",
    "    \n",
    "    return test_loss"
   ]
  },
  {
   "cell_type": "code",
   "execution_count": 5,
   "id": "26e3f4e1-7f20-4526-b082-4941de0f44a8",
   "metadata": {},
   "outputs": [
    {
     "name": "stdout",
     "output_type": "stream",
     "text": [
      "tensor(1.5252, grad_fn=<DivBackward0>)\n",
      "tensor(1.2470, grad_fn=<DivBackward0>)\n",
      "tensor(1.2283, grad_fn=<DivBackward0>)\n",
      "tensor(1.2230, grad_fn=<DivBackward0>)\n",
      "tensor(1.3723, grad_fn=<DivBackward0>)\n",
      "tensor(1.4075, grad_fn=<DivBackward0>)\n",
      "tensor(1.3339, grad_fn=<DivBackward0>)\n",
      "tensor(1.1846, grad_fn=<DivBackward0>)\n",
      "tensor(1.4677, grad_fn=<DivBackward0>)\n",
      "tensor(1.2910, grad_fn=<DivBackward0>)\n",
      "tensor(1.1479, grad_fn=<DivBackward0>)\n",
      "tensor(1.3612, grad_fn=<DivBackward0>)\n",
      "tensor(1.2401, grad_fn=<DivBackward0>)\n",
      "tensor(1.3408, grad_fn=<DivBackward0>)\n",
      "tensor(1.3052, grad_fn=<DivBackward0>)\n",
      "tensor(1.1746, grad_fn=<DivBackward0>)\n",
      "tensor(1.2850, grad_fn=<DivBackward0>)\n",
      "tensor(1.1397, grad_fn=<DivBackward0>)\n",
      "tensor(1.4298, grad_fn=<DivBackward0>)\n",
      "tensor(1.3407, grad_fn=<DivBackward0>)\n"
     ]
    },
    {
     "name": "stderr",
     "output_type": "stream",
     "text": [
      "C:\\Users\\Julianna\\anaconda3\\lib\\site-packages\\ipykernel_launcher.py:59: UserWarning: Implicit dimension choice for log_softmax has been deprecated. Change the call to include dim=X as an argument.\n"
     ]
    }
   ],
   "source": [
    "model = RNN()\n",
    "criterion = torch.nn.CrossEntropyLoss()\n",
    "\n",
    "optimizer = torch.optim.Adam(model.parameters(), lr = 0.001)\n",
    "train_set = [[3, 0, 0, 1, 1, 2],\n",
    "             [3, 0, 1, 2],\n",
    "             [3, 0, 0, 0, 1, 1, 1, 2],\n",
    "             [3, 0, 0, 0, 0, 0, 1, 1, 1, 1, 1, 2]]\n",
    "\n",
    "# 重复进行50次试验\n",
    "num_epoch = 5\n",
    "loss_list = []\n",
    "for epoch in range(num_epoch):\n",
    "    train_loss = 0\n",
    "    # 对train_set中的数据进行随机洗牌，以保证每个epoch得到的训练顺序都不一样。\n",
    "    np.random.shuffle(train_set)\n",
    "    # 对train_set中的数据进行循环\n",
    "    for i, seq in enumerate(train_set):\n",
    "        loss = 0\n",
    "        for t in range(len(seq) - 1):\n",
    "\n",
    "            x = torch.Tensor([seq[t]])\n",
    "            y = torch.Tensor([seq[ t +1]])\n",
    "\n",
    "            output, h_n = model(x)  # 综合加了RNN的模型输出 输出\n",
    "            loss += criterion(output ,y.long())\n",
    "\n",
    "        loss = 1.0 * loss / len(seq)  # 计算每字符的损失数值\n",
    "        print(loss)\n",
    "        optimizer.zero_grad() # 梯度清空\n",
    "        loss.backward()  # 反向传播\n",
    "        optimizer.step()  # 一步梯度下降"
   ]
  }
 ],
 "metadata": {
  "kernelspec": {
   "display_name": "Python 3",
   "language": "python",
   "name": "python3"
  },
  "language_info": {
   "codemirror_mode": {
    "name": "ipython",
    "version": 3
   },
   "file_extension": ".py",
   "mimetype": "text/x-python",
   "name": "python",
   "nbconvert_exporter": "python",
   "pygments_lexer": "ipython3",
   "version": "3.7.6"
  }
 },
 "nbformat": 4,
 "nbformat_minor": 5
}
