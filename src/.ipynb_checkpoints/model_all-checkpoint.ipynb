{
 "cells": [
  {
   "cell_type": "code",
   "execution_count": 19,
   "id": "42250df8-3774-48c8-90d3-e5be82955d6b",
   "metadata": {},
   "outputs": [],
   "source": [
    "import pandas as pd \n",
    "import numpy as np \n",
    "from datetime import datetime, timedelta\n",
    "import random\n",
    "from tqdm import tqdm\n",
    "import os\n",
    "from scipy.stats import bernoulli\n",
    "\n",
    "import matplotlib.pyplot as plt\n",
    "\n",
    "import torch\n",
    "from torch import nn\n",
    "from torch import optim\n",
    "from torch.utils.data import Dataset, DataLoader\n",
    "from torch.nn.functional import softmax\n",
    "from utils import FAR, FDR\n",
    "\n",
    "%matplotlib inline"
   ]
  },
  {
   "cell_type": "code",
   "execution_count": 3,
   "id": "55c0ee6d-86e9-4399-9954-28a9c284a8b1",
   "metadata": {},
   "outputs": [],
   "source": [
    "def get_data(path,year):\n",
    "    df_list = []\n",
    "    for file in tqdm(os.listdir(path+year)):##进度条\n",
    "        file_path = os.path.join(path, file)\n",
    "        df = pd.read_csv(file_path)\n",
    "        df = df[df.model=='ST4000DM000']\n",
    "        df_list.append(df)\n",
    "    filename = path+'model_{}_ST4000DM000.csv'.format(year)\n",
    "    df = pd.concat(df_list)\n",
    "    df.to_csv(path_or_buf=filename,index=False)#保存为CSV文件  "
   ]
  },
  {
   "cell_type": "code",
   "execution_count": 4,
   "id": "9d6b7765-bdae-4e0d-889e-1fee26a20cb2",
   "metadata": {},
   "outputs": [],
   "source": [
    "# 去掉全部缺失的列\n",
    "def not_nan_smart_col(data):\n",
    "    attribs = ['date', 'serial_number', 'model', 'capacity_bytes', 'failure']\n",
    "    item0 = data.iloc[0]\n",
    "    columns = data.columns\n",
    "    for column in columns:\n",
    "        if not column.startswith('smart_'):\n",
    "            continue\n",
    "        if not np.isnan(item0[column]):\n",
    "            attribs.append(column)\n",
    "    return attribs"
   ]
  },
  {
   "cell_type": "code",
   "execution_count": 25,
   "id": "893438a4-25c1-481f-b35f-8458184d3ee0",
   "metadata": {},
   "outputs": [],
   "source": [
    "def get_delta_days(ss):\n",
    "    def get_delta(st, end):\n",
    "        return (datetime.strptime(st, \"%Y-%m-%d\") - datetime.strptime(end, \"%Y-%m-%d\")).days\n",
    "    min_date = ss.min()\n",
    "    return ss.apply(lambda x: get_delta(x, min_date))\n",
    "\n",
    "def prepare_data(X):\n",
    "    groups = X.groupby('serial_number')\n",
    "    x_data = []\n",
    "    y_data = []\n",
    "    for serial_number, df in groups:\n",
    "        y_data.append(df.iloc[0].failure)\n",
    "        x_sample = df[attributes].values\n",
    "        x_data.append(x_sample)\n",
    "    return np.array(x_data), np.array(y_data)\n",
    "\n",
    "def convert_df(df):\n",
    "    if isinstance(df, str):\n",
    "        df = pd.read_csv(df)\n",
    "    # remove serial_numbers where history is less than 21\n",
    "    data = df.groupby(['serial_number']).filter(lambda x: len(x) >= 21)\n",
    "    data.sort_values(by=['date'], inplace=True)\n",
    "    data = data.groupby('serial_number').tail(21)\n",
    "\n",
    "    X = data[attributes_and_target+['date', 'serial_number']]\n",
    "    X['time_delta'] = X.groupby('serial_number').date.apply(get_delta_days)\n",
    "    X, y = prepare_data(X)\n",
    "    return X, y\n",
    "\n",
    "def convert_dfs(dfs):\n",
    "    if isinstance(dfs[0], str):\n",
    "        dfs = [pd.read_csv(path) for path in dfs]\n",
    "    xs, ys = [], []\n",
    "    for df in dfs:\n",
    "        X, y = convert_df(df)\n",
    "        xs.append(X)\n",
    "        ys.append(y)\n",
    "    X, y = np.concatenate(xs), np.concatenate(ys)\n",
    "    return X, y"
   ]
  },
  {
   "cell_type": "code",
   "execution_count": 6,
   "id": "9699b6d5-03b1-4740-a6de-27e629e1137f",
   "metadata": {},
   "outputs": [],
   "source": [
    "class SMARTAttributesDataset(Dataset):\n",
    "    def __init__(self, X, y, train=False, k=1., noise=False):\n",
    "        assert len(X) == len(y)\n",
    "        super().__init__()\n",
    "        self._k = k  # ratio n_positive / n_neutral\n",
    "        self._noise = noise\n",
    "        self.train = train\n",
    "        self._X, self._y = X.copy(), y.copy()\n",
    "        if self.train and self._k:\n",
    "            self._increase_samples_in_positive_class()\n",
    "        self._X, self._y = self._X.astype(np.float32), self._y.astype(np.int)\n",
    "\n",
    "    def _increase_samples_in_positive_class(self):\n",
    "        positive_x = self._X[self._y == 1]\n",
    "        n_positive = len(positive_x)\n",
    "        n_neutral = len(self._X) - n_positive\n",
    "        n_addition = int(self._k * n_neutral - n_positive)\n",
    "        assert n_addition > 0\n",
    "        positive_idxs = np.arange(len(positive_x))\n",
    "        positive_idxs = np.random.choice(positive_idxs, size=n_addition)\n",
    "        additional_samples = positive_x[positive_idxs]\n",
    "        if self._noise:\n",
    "            shape = additional_samples.shape\n",
    "            additional_samples += bernoulli.rvs(0.5, size=shape) * 2 - 1\n",
    "        self._y = np.concatenate((self._y, np.ones(n_addition)))\n",
    "        self._X = np.concatenate((self._X, additional_samples))\n",
    "        idxs = np.arange(len(self._X))\n",
    "        np.random.shuffle(idxs)\n",
    "        self._X, self._y = self._X[idxs], self._y[idxs]\n",
    "\n",
    "    def __len__(self):\n",
    "        return len(self._X)\n",
    "\n",
    "    def __getitem__(self, idx):\n",
    "        sample = {'x': self._X[idx], 'y': self._y[idx]}\n",
    "        return sample"
   ]
  },
  {
   "cell_type": "code",
   "execution_count": 80,
   "id": "1478973d-8215-40e3-a911-cdd53e20c1ea",
   "metadata": {},
   "outputs": [],
   "source": [
    "class NNet(nn.Module):\n",
    "    def __init__(self, input_size, nhidden=4, nlayers=1, dropout=0.1):\n",
    "        super().__init__()\n",
    "        self.rnn = nn.LSTM(input_size=input_size, hidden_size=nhidden, num_layers=nlayers, dropout=dropout,\n",
    "                           batch_first=True)\n",
    "        self.linear = nn.Linear(nhidden, 2)\n",
    "\n",
    "    def forward(self, inp):\n",
    "        _, (h_n, _) = self.rnn(inp)\n",
    "        repr_ = h_n[-1]\n",
    "        return self.linear(repr_)\n",
    "    \n",
    "    \n",
    "class RNN(nn.Module):\n",
    "    def __init__(self ,):\n",
    "        # 定义\n",
    "        super(RNN, self).__init__()\n",
    "\n",
    "        input_size =1  # 输入x的特征数 也就是 feature\n",
    "        hidden_size =20 # 隐含层的特征数量\n",
    "        num_layers =2   # rnn的层数\n",
    "\n",
    "        self.hidden_size = hidden_size\n",
    "        self.num_layers = num_layers\n",
    "        self.input_size =input_size\n",
    "        self.output_size =5 # 自己设置的参数，self.linear经过全连接之后输出的维度\n",
    "\n",
    "        self.embedding = nn.Embedding(10 ,input_size ,padding_idx=1)\n",
    "        #                       词典的大小  每个词嵌入的维度\n",
    "        # padding_idx (python:int, optional)\n",
    "        # 填充id，比如输入长度为100，但是每次的句子长度并不一样，后面就需要用统一的数字填充，而这里就是指定这个数字，这样，网络在遇到填充id时，就不会计算其与其它符号的相关性。（初始化为0）\n",
    "\n",
    "\n",
    "        self.rnn = nn.RNN(self.input_size ,self.hidden_size ,self.num_layers, batch_first = True)\n",
    "        # batch_first = True 表示 rnn的的输入数据的维度是 [batc，seq_len，input_size]\n",
    "        # 如果不写 就是默认 也就是 batch_first=False,[seq_len，batch，input_size]\n",
    "        # 输出的全链接层\n",
    "\n",
    "        self.linear = nn.Linear(self.hidden_size ,self.output_size)\n",
    "\n",
    "        # 最后的logsoftmax层\n",
    "        self.softmax = nn.LogSoftmax()\n",
    "\n",
    "    def forward(self ,input):\n",
    "\n",
    "        input =torch.LongTensor(input.numpy()  )# input 直接转化成 LongTensor 失败 所以先转化成 .numpy()，再LongTensor。\n",
    "\n",
    "        output = self.embedding(input)  # self.embedding = nn.Embedding(10,input_size,padding_idx=1)\n",
    "\n",
    "        output =output.unsqueeze(0  )  # 在第一个位置增加一个一维度\n",
    "        # print(output.shape) # ([1, 1, 1])  # x的尺寸：序列长度seq_len,batch_size,input_size\n",
    "\n",
    "        h_0 =(torch.randn(2 ,1 ,20))\n",
    "        # h_0尺寸：num_layers * num_directions,batch_size, hidden_size,\n",
    "        # num_directions是方向数。1是单向 2 是双向 rnn\n",
    "\n",
    "        output, h_n = self.rnn(output, h_0)\n",
    "        # output尺寸：序列长度seq_len,batch,hidden_size* num_directions,torch.Size([1, 1, 20])\n",
    "        # print(h_n.shape) h_n的尺寸=h_0尺寸,\n",
    "\n",
    "        output = output[: ,-1 ,:] # 这个操作不好解释 可以具体情况具体分析\n",
    "        # print(output.shape)#torch.Size([1, 20])\n",
    "\n",
    "        output = self.linear(output) # self.linear = nn.Linear(self.hidden_size,self.output_size)\n",
    "        # print(output) # torch.Size([1, 5])          # self.hidden_size=20,self.output_size=5\n",
    "\n",
    "        output = self.softmax(output)\n",
    "        # print(output.shape) #torch.Size([1, 5])\n",
    "        return output, h_n\n",
    "    def initHidden(self):\n",
    "        # 对隐含单元的初始化\n",
    "        return torch.zeros(1, self.hidden_size)\n",
    "\n",
    "    \n",
    "\n",
    "\n",
    "class DenseNet8_8(nn.Module):\n",
    "    def __init__(self, input_size, hidden_sizes=[8,8]):\n",
    "        hs1, hs2 = hidden_sizes\n",
    "        super().__init__()\n",
    "        self.layers = nn.Sequential(\n",
    "            nn.Linear(input_size, hs1), nn.Tanh(),\n",
    "            nn.Linear(hs1, hs2), nn.Tanh(),\n",
    "            nn.Linear(hs2, 2)\n",
    "        )\n",
    "\n",
    "    def forward(self, inp):\n",
    "        out = self.layers(inp)\n",
    "        return out\n",
    "    \n",
    "class DenseNet32(nn.Module):\n",
    "    def __init__(self, input_size, hidden_sizes=32):\n",
    "        hs1= hidden_sizes\n",
    "        super().__init__()\n",
    "        self.layers = nn.Sequential(\n",
    "            nn.Linear(input_size, hs1), nn.Tanh(),\n",
    "            # nn.Linear(hs1), nn.Tanh(),\n",
    "            nn.Linear(hs1, 2)\n",
    "        )\n",
    "\n",
    "    def forward(self, inp):\n",
    "        out = self.layers(inp)\n",
    "        return out\n",
    "    \n",
    "class DenseNet8(nn.Module):\n",
    "    def __init__(self, input_size, hidden_sizes=8):\n",
    "        hs1= hidden_sizes\n",
    "        super().__init__()\n",
    "        self.layers = nn.Sequential(\n",
    "            nn.Linear(input_size, hs1), nn.Tanh(),\n",
    "            # nn.Linear(hs1), nn.Tanh(),\n",
    "            nn.Linear(hs1, 2)\n",
    "        )\n",
    "\n",
    "    def forward(self, inp):\n",
    "        out = self.layers(inp)\n",
    "        return out"
   ]
  },
  {
   "cell_type": "code",
   "execution_count": 22,
   "id": "5360deca-0aea-4e84-bfe4-d7ac4001b538",
   "metadata": {},
   "outputs": [],
   "source": [
    "def train_epoch(model, dataloader, optimizer, criterion):\n",
    "    model.train()\n",
    "    losses = []\n",
    "    for batch_idx, batch in enumerate(dataloader):\n",
    "        x, y = batch['x'], batch['y']\n",
    "        optimizer.zero_grad()\n",
    "        outputs = model(x)\n",
    "        loss = criterion(outputs, y.long())\n",
    "        loss.backward()\n",
    "        optimizer.step()\n",
    "        losses.append(loss.detach().numpy())\n",
    "    return np.mean(losses)\n",
    "\n",
    "\n",
    "def evaluate(model, dataloader, criterion):\n",
    "    probs = []\n",
    "    labels = []\n",
    "    losses = []\n",
    "    model.eval()\n",
    "    with torch.no_grad():\n",
    "        for batch_idx, batch in enumerate(dataloader):\n",
    "            x, y = batch['x'], batch['y']\n",
    "            outputs = model(x)  # size: [B, 2]\n",
    "            loss = criterion(outputs, y.long())\n",
    "            probs.append(softmax(outputs).numpy())\n",
    "            labels.append(y.numpy())\n",
    "            losses.append(loss.detach().numpy())\n",
    "    probs = np.concatenate(probs, axis=0)[:, 1]\n",
    "    labels = np.concatenate(labels, axis=0)\n",
    "    metrics = {\n",
    "        'FAR': FAR(labels, probs),\n",
    "        'FDR': FDR(labels, probs),\n",
    "        'loss': np.nanmean(losses)\n",
    "    }\n",
    "    return metrics"
   ]
  },
  {
   "cell_type": "markdown",
   "id": "f4da151c-9ae7-44a0-9dc5-4fc5ae62994d",
   "metadata": {},
   "source": [
    "## 主函数"
   ]
  },
  {
   "cell_type": "code",
   "execution_count": 9,
   "id": "27425b4d-1c73-467b-9dd5-c090b8d8da2a",
   "metadata": {},
   "outputs": [],
   "source": [
    "data_path = '../data/'\n",
    "res_path = '../res/'\n",
    "# 数据预处理\n",
    "for year in ['2019','2020', '2021']:\n",
    "    # get_data(data_path, year)\n",
    "    pass"
   ]
  },
  {
   "cell_type": "code",
   "execution_count": 10,
   "id": "3b3415f5-0f32-4d60-91bc-e148185d4ffd",
   "metadata": {},
   "outputs": [],
   "source": [
    "# 读取数据\n",
    "data_2015 = pd.read_csv(data_path+'model_2015_ST4000DM000.csv', encoding='utf-8')\n",
    "data_2016 = pd.read_csv(data_path+'model_2016_ST4000DM000.csv', encoding='utf-8')\n",
    "data_2017 = pd.read_csv(data_path+'model_2017_ST4000DM000.csv', encoding='utf-8')\n",
    "data_2018 = pd.read_csv(data_path+'model_2018_ST4000DM000.csv', encoding='utf-8')\n",
    "data_2019 = pd.read_csv(data_path+'model_2019_ST4000DM000.csv', encoding='utf-8')\n",
    "data_2020 = pd.read_csv(data_path+'model_2020_ST4000DM000.csv', encoding='utf-8')\n",
    "data_2021 = pd.read_csv(data_path+'model_2021_ST4000DM000.csv', encoding='utf-8')"
   ]
  },
  {
   "cell_type": "code",
   "execution_count": 11,
   "id": "e21968a5-892d-4ec2-8102-fbc34068e8a1",
   "metadata": {},
   "outputs": [],
   "source": [
    "# data_2015_2020 = pd.concat([data_2015,data_2016,data_2017,data_2018,data_2019,data_2020])"
   ]
  },
  {
   "cell_type": "code",
   "execution_count": 12,
   "id": "f0171348-853d-4709-9577-718a7e429977",
   "metadata": {},
   "outputs": [],
   "source": [
    "# col_list = not_nan_smart_col(data_2015_2020)\n",
    "# data_2015_2020 = data_2015_2020[col_list]\n",
    "# data_2021 = data_2021[col_list]"
   ]
  },
  {
   "cell_type": "code",
   "execution_count": 13,
   "id": "d6b9f44e-bcf9-4409-b44d-3ab81aa199b6",
   "metadata": {},
   "outputs": [],
   "source": [
    "# 切分训练集和预测集\n",
    "DEBUG = False\n",
    "np.random.seed(17)\n",
    "\n",
    "if DEBUG:\n",
    "    TRAIN_DATASETS = [data_path+'model_{}_ST4000DM000.csv'.format(year) for year in [2015]]\n",
    "else:\n",
    "    TRAIN_DATASETS = [data_path+'model_{}_ST4000DM000.csv'.format(year) for year in [2015, 2016, 2017]]\n",
    "TEST_DATASET = data_path + 'model_2018_ST4000DM000.csv'\n",
    "\n",
    "attributes = ['smart_{}_raw'.format(idx) for idx in [188, 197, 240]] + \\\n",
    "             ['smart_{}_normalized'.format(idx) for idx in [1, 187]]\n",
    "attributes_and_target = attributes + ['failure']"
   ]
  },
  {
   "cell_type": "code",
   "execution_count": 14,
   "id": "a0343d0a-1dd4-4b9c-9d0d-f09b0539821d",
   "metadata": {},
   "outputs": [
    {
     "name": "stderr",
     "output_type": "stream",
     "text": [
      "C:\\Users\\Julianna\\anaconda3\\lib\\site-packages\\ipykernel_launcher.py:26: SettingWithCopyWarning: \n",
      "A value is trying to be set on a copy of a slice from a DataFrame.\n",
      "Try using .loc[row_indexer,col_indexer] = value instead\n",
      "\n",
      "See the caveats in the documentation: https://pandas.pydata.org/pandas-docs/stable/user_guide/indexing.html#returning-a-view-versus-a-copy\n"
     ]
    }
   ],
   "source": [
    "X_train, y_train = convert_dfs(TRAIN_DATASETS)\n",
    "X_test, y_test = convert_df(TEST_DATASET)"
   ]
  },
  {
   "cell_type": "code",
   "execution_count": 15,
   "id": "ac4fdb82-cdfc-4c56-9dfd-183fc229f7ed",
   "metadata": {},
   "outputs": [],
   "source": [
    "batch_size = 128\n",
    "\n",
    "train_dataset = SMARTAttributesDataset(X_train, y_train, train=True, k=None, noise=False)\n",
    "train_loader = DataLoader(train_dataset, batch_size=batch_size, shuffle=True)\n",
    "\n",
    "test_dataset = SMARTAttributesDataset(X_test, y_test)\n",
    "test_loader = DataLoader(test_dataset, batch_size=batch_size)"
   ]
  },
  {
   "cell_type": "code",
   "execution_count": 16,
   "id": "65dffef7-5b69-4dad-846b-9f515c0154d9",
   "metadata": {},
   "outputs": [],
   "source": [
    "X_train2d, X_test2d = X_train[:,-1,:], X_test[:,-1,:]\n",
    "\n",
    "train_dataset = SMARTAttributesDataset(X_train2d, y_train, train=True, k=1., noise=True)\n",
    "test_dataset = SMARTAttributesDataset(X_test2d, y_test)\n",
    "\n",
    "train_loader = DataLoader(train_dataset, batch_size=batch_size, shuffle=True)\n",
    "test_loader = DataLoader(test_dataset, batch_size=batch_size)"
   ]
  },
  {
   "cell_type": "code",
   "execution_count": 71,
   "id": "334152ed-61bb-4277-8532-d1fc04865b77",
   "metadata": {},
   "outputs": [],
   "source": [
    "def model_train_predict(model, train_loader,test_loader):\n",
    "    ## Train\n",
    "    # model = NNet(input_size=len(attributes))\n",
    "    # model = DenseNet(input_size=len(attributes))\n",
    "\n",
    "    criterion = nn.CrossEntropyLoss(weight=torch.FloatTensor([1, 1]))\n",
    "    # criterion = nn.NLLLoss()\n",
    "    optimizer = optim.Adam(model.parameters())\n",
    "\n",
    "    losses = {'train': [], 'test': []}\n",
    "    for epoch_idx in range(120):\n",
    "        train_loss = train_epoch(model, train_loader, optimizer, criterion)\n",
    "        test_loss = evaluate(model, test_loader, criterion)\n",
    "        losses['train'].append(train_loss)\n",
    "        losses['test'].append(test_loss)\n",
    "        # print(epoch_idx, train_loss, test_loss['loss'], test_loss['FAR'], test_loss['FDR'])\n",
    "    \n",
    "    return test_loss"
   ]
  },
  {
   "cell_type": "code",
   "execution_count": 72,
   "id": "d0610fa8-68b1-4877-9c8a-2e59f18dd5c0",
   "metadata": {},
   "outputs": [
    {
     "name": "stderr",
     "output_type": "stream",
     "text": [
      "C:\\Users\\Julianna\\anaconda3\\lib\\site-packages\\ipykernel_launcher.py:25: UserWarning: Implicit dimension choice for softmax has been deprecated. Change the call to include dim=X as an argument.\n"
     ]
    },
    {
     "name": "stdout",
     "output_type": "stream",
     "text": [
      "{'FAR': 0.0, 'FDR': 0.01532567049808429, 'loss': 0.6927298}\n"
     ]
    }
   ],
   "source": [
    "# dense net 8\n",
    "model_densenet_8 = DenseNet8(input_size=len(attributes))\n",
    "test_loss = model_train_predict(model_densenet_8, train_loader,test_loader)\n",
    "print(test_loss)"
   ]
  },
  {
   "cell_type": "code",
   "execution_count": 74,
   "id": "52e3293e-edce-4a98-9d9b-3f24f4e858ae",
   "metadata": {},
   "outputs": [
    {
     "name": "stderr",
     "output_type": "stream",
     "text": [
      "C:\\Users\\Julianna\\anaconda3\\lib\\site-packages\\ipykernel_launcher.py:25: UserWarning: Implicit dimension choice for softmax has been deprecated. Change the call to include dim=X as an argument.\n"
     ]
    },
    {
     "name": "stdout",
     "output_type": "stream",
     "text": [
      "{'FAR': 1.0, 'FDR': 1.0, 'loss': 0.71704185}\n"
     ]
    }
   ],
   "source": [
    "# dense net 8 8 \n",
    "model_densenet_8_8 = DenseNet8_8(input_size=len(attributes))\n",
    "test_loss = model_train_predict(model_densenet_8_8, train_loader,test_loader)\n",
    "print(test_loss)"
   ]
  },
  {
   "cell_type": "code",
   "execution_count": 73,
   "id": "4bcb201b-fd62-4e03-9237-9678c2a7e64b",
   "metadata": {},
   "outputs": [
    {
     "name": "stderr",
     "output_type": "stream",
     "text": [
      "C:\\Users\\Julianna\\anaconda3\\lib\\site-packages\\ipykernel_launcher.py:25: UserWarning: Implicit dimension choice for softmax has been deprecated. Change the call to include dim=X as an argument.\n"
     ]
    },
    {
     "name": "stdout",
     "output_type": "stream",
     "text": [
      "{'FAR': 0.003417167851284855, 'FDR': 0.19923371647509577, 'loss': 0.5132209}\n"
     ]
    }
   ],
   "source": [
    "# dense net 32\n",
    "model_densenet_32 = DenseNet32(input_size=len(attributes))\n",
    "test_loss = model_train_predict(model_densenet_32, train_loader,test_loader)\n",
    "print(test_loss)"
   ]
  },
  {
   "cell_type": "code",
   "execution_count": 81,
   "id": "b167eeb5-70a6-44cb-b481-0c3eb1152973",
   "metadata": {},
   "outputs": [],
   "source": [
    "def rnn_train_epoch(model, dataloader, optimizer, criterion):\n",
    "    model.train()\n",
    "    losses = []\n",
    "    for batch_idx, batch in enumerate(dataloader):\n",
    "        x, y = batch['x'], batch['y']\n",
    "        optimizer.zero_grad()\n",
    "        outputs, h_n = model(x)\n",
    "        loss = criterion(outputs, y.long())\n",
    "        loss.backward()\n",
    "        optimizer.step()\n",
    "        losses.append(loss.detach().numpy())\n",
    "    return np.mean(losses)"
   ]
  },
  {
   "cell_type": "code",
   "execution_count": 83,
   "id": "1316ae02-a644-4bae-998e-7fdf39910ed7",
   "metadata": {},
   "outputs": [
    {
     "ename": "TypeError",
     "evalue": "forward() missing 1 required positional argument: 'x'",
     "output_type": "error",
     "traceback": [
      "\u001b[1;31m---------------------------------------------------------------------------\u001b[0m",
      "\u001b[1;31mTypeError\u001b[0m                                 Traceback (most recent call last)",
      "\u001b[1;32m<ipython-input-83-4b0edbef79dc>\u001b[0m in \u001b[0;36m<module>\u001b[1;34m\u001b[0m\n\u001b[0;32m      6\u001b[0m \u001b[0mlosses\u001b[0m \u001b[1;33m=\u001b[0m \u001b[1;33m{\u001b[0m\u001b[1;34m'train'\u001b[0m\u001b[1;33m:\u001b[0m \u001b[1;33m[\u001b[0m\u001b[1;33m]\u001b[0m\u001b[1;33m,\u001b[0m \u001b[1;34m'test'\u001b[0m\u001b[1;33m:\u001b[0m \u001b[1;33m[\u001b[0m\u001b[1;33m]\u001b[0m\u001b[1;33m}\u001b[0m\u001b[1;33m\u001b[0m\u001b[1;33m\u001b[0m\u001b[0m\n\u001b[0;32m      7\u001b[0m \u001b[1;32mfor\u001b[0m \u001b[0mepoch_idx\u001b[0m \u001b[1;32min\u001b[0m \u001b[0mrange\u001b[0m\u001b[1;33m(\u001b[0m\u001b[1;36m120\u001b[0m\u001b[1;33m)\u001b[0m\u001b[1;33m:\u001b[0m\u001b[1;33m\u001b[0m\u001b[1;33m\u001b[0m\u001b[0m\n\u001b[1;32m----> 8\u001b[1;33m     \u001b[0mtrain_loss\u001b[0m \u001b[1;33m=\u001b[0m \u001b[0mrnn_train_epoch\u001b[0m\u001b[1;33m(\u001b[0m\u001b[0mmodel\u001b[0m\u001b[1;33m,\u001b[0m \u001b[0mtrain_loader\u001b[0m\u001b[1;33m,\u001b[0m \u001b[0moptimizer\u001b[0m\u001b[1;33m,\u001b[0m \u001b[0mcriterion\u001b[0m\u001b[1;33m)\u001b[0m\u001b[1;33m\u001b[0m\u001b[1;33m\u001b[0m\u001b[0m\n\u001b[0m\u001b[0;32m      9\u001b[0m     \u001b[0mtest_loss\u001b[0m \u001b[1;33m=\u001b[0m \u001b[0mevaluate\u001b[0m\u001b[1;33m(\u001b[0m\u001b[0mmodel\u001b[0m\u001b[1;33m,\u001b[0m \u001b[0mtest_loader\u001b[0m\u001b[1;33m,\u001b[0m \u001b[0mcriterion\u001b[0m\u001b[1;33m)\u001b[0m\u001b[1;33m\u001b[0m\u001b[1;33m\u001b[0m\u001b[0m\n\u001b[0;32m     10\u001b[0m     \u001b[0mlosses\u001b[0m\u001b[1;33m[\u001b[0m\u001b[1;34m'train'\u001b[0m\u001b[1;33m]\u001b[0m\u001b[1;33m.\u001b[0m\u001b[0mappend\u001b[0m\u001b[1;33m(\u001b[0m\u001b[0mtrain_loss\u001b[0m\u001b[1;33m)\u001b[0m\u001b[1;33m\u001b[0m\u001b[1;33m\u001b[0m\u001b[0m\n",
      "\u001b[1;32m<ipython-input-81-f1c4ee74a286>\u001b[0m in \u001b[0;36mrnn_train_epoch\u001b[1;34m(model, dataloader, optimizer, criterion)\u001b[0m\n\u001b[0;32m      5\u001b[0m         \u001b[0mx\u001b[0m\u001b[1;33m,\u001b[0m \u001b[0my\u001b[0m \u001b[1;33m=\u001b[0m \u001b[0mbatch\u001b[0m\u001b[1;33m[\u001b[0m\u001b[1;34m'x'\u001b[0m\u001b[1;33m]\u001b[0m\u001b[1;33m,\u001b[0m \u001b[0mbatch\u001b[0m\u001b[1;33m[\u001b[0m\u001b[1;34m'y'\u001b[0m\u001b[1;33m]\u001b[0m\u001b[1;33m\u001b[0m\u001b[1;33m\u001b[0m\u001b[0m\n\u001b[0;32m      6\u001b[0m         \u001b[0moptimizer\u001b[0m\u001b[1;33m.\u001b[0m\u001b[0mzero_grad\u001b[0m\u001b[1;33m(\u001b[0m\u001b[1;33m)\u001b[0m\u001b[1;33m\u001b[0m\u001b[1;33m\u001b[0m\u001b[0m\n\u001b[1;32m----> 7\u001b[1;33m         \u001b[0moutputs\u001b[0m\u001b[1;33m,\u001b[0m \u001b[0mh_n\u001b[0m \u001b[1;33m=\u001b[0m \u001b[0mmodel\u001b[0m\u001b[1;33m(\u001b[0m\u001b[0mx\u001b[0m\u001b[1;33m)\u001b[0m\u001b[1;33m\u001b[0m\u001b[1;33m\u001b[0m\u001b[0m\n\u001b[0m\u001b[0;32m      8\u001b[0m         \u001b[0mloss\u001b[0m \u001b[1;33m=\u001b[0m \u001b[0mcriterion\u001b[0m\u001b[1;33m(\u001b[0m\u001b[0moutputs\u001b[0m\u001b[1;33m,\u001b[0m \u001b[0my\u001b[0m\u001b[1;33m.\u001b[0m\u001b[0mlong\u001b[0m\u001b[1;33m(\u001b[0m\u001b[1;33m)\u001b[0m\u001b[1;33m)\u001b[0m\u001b[1;33m\u001b[0m\u001b[1;33m\u001b[0m\u001b[0m\n\u001b[0;32m      9\u001b[0m         \u001b[0mloss\u001b[0m\u001b[1;33m.\u001b[0m\u001b[0mbackward\u001b[0m\u001b[1;33m(\u001b[0m\u001b[1;33m)\u001b[0m\u001b[1;33m\u001b[0m\u001b[1;33m\u001b[0m\u001b[0m\n",
      "\u001b[1;32m~\\anaconda3\\lib\\site-packages\\torch\\nn\\modules\\module.py\u001b[0m in \u001b[0;36m_call_impl\u001b[1;34m(self, *input, **kwargs)\u001b[0m\n\u001b[0;32m   1049\u001b[0m         if not (self._backward_hooks or self._forward_hooks or self._forward_pre_hooks or _global_backward_hooks\n\u001b[0;32m   1050\u001b[0m                 or _global_forward_hooks or _global_forward_pre_hooks):\n\u001b[1;32m-> 1051\u001b[1;33m             \u001b[1;32mreturn\u001b[0m \u001b[0mforward_call\u001b[0m\u001b[1;33m(\u001b[0m\u001b[1;33m*\u001b[0m\u001b[0minput\u001b[0m\u001b[1;33m,\u001b[0m \u001b[1;33m**\u001b[0m\u001b[0mkwargs\u001b[0m\u001b[1;33m)\u001b[0m\u001b[1;33m\u001b[0m\u001b[1;33m\u001b[0m\u001b[0m\n\u001b[0m\u001b[0;32m   1052\u001b[0m         \u001b[1;31m# Do not call functions when jit is used\u001b[0m\u001b[1;33m\u001b[0m\u001b[1;33m\u001b[0m\u001b[1;33m\u001b[0m\u001b[0m\n\u001b[0;32m   1053\u001b[0m         \u001b[0mfull_backward_hooks\u001b[0m\u001b[1;33m,\u001b[0m \u001b[0mnon_full_backward_hooks\u001b[0m \u001b[1;33m=\u001b[0m \u001b[1;33m[\u001b[0m\u001b[1;33m]\u001b[0m\u001b[1;33m,\u001b[0m \u001b[1;33m[\u001b[0m\u001b[1;33m]\u001b[0m\u001b[1;33m\u001b[0m\u001b[1;33m\u001b[0m\u001b[0m\n",
      "\u001b[1;31mTypeError\u001b[0m: forward() missing 1 required positional argument: 'x'"
     ]
    }
   ],
   "source": [
    "## Train\n",
    "criterion = nn.CrossEntropyLoss(weight=torch.FloatTensor([1, 1]))\n",
    "# criterion = nn.NLLLoss()\n",
    "optimizer = optim.Adam(model.parameters())\n",
    "\n",
    "losses = {'train': [], 'test': []}\n",
    "for epoch_idx in range(120):\n",
    "    train_loss = rnn_train_epoch(model, train_loader, optimizer, criterion)\n",
    "    test_loss = evaluate(model, test_loader, criterion)\n",
    "    losses['train'].append(train_loss)\n",
    "    losses['test'].append(test_loss)\n",
    "    print(epoch_idx, train_loss, test_loss['loss'], test_loss['FAR'], test_loss['FDR'])"
   ]
  },
  {
   "cell_type": "code",
   "execution_count": 79,
   "id": "c042ff78-82a8-4772-a2ca-14742ac05cab",
   "metadata": {},
   "outputs": [
    {
     "ename": "TypeError",
     "evalue": "forward() missing 1 required positional argument: 'x'",
     "output_type": "error",
     "traceback": [
      "\u001b[1;31m---------------------------------------------------------------------------\u001b[0m",
      "\u001b[1;31mTypeError\u001b[0m                                 Traceback (most recent call last)",
      "\u001b[1;32m<ipython-input-79-750bfba9b6aa>\u001b[0m in \u001b[0;36m<module>\u001b[1;34m\u001b[0m\n\u001b[0;32m      1\u001b[0m \u001b[1;31m# RNN\u001b[0m\u001b[1;33m\u001b[0m\u001b[1;33m\u001b[0m\u001b[1;33m\u001b[0m\u001b[0m\n\u001b[0;32m      2\u001b[0m \u001b[0mmodel\u001b[0m \u001b[1;33m=\u001b[0m \u001b[0mRNN\u001b[0m\u001b[1;33m(\u001b[0m\u001b[1;33m)\u001b[0m\u001b[1;33m\u001b[0m\u001b[1;33m\u001b[0m\u001b[0m\n\u001b[1;32m----> 3\u001b[1;33m \u001b[0mtest_loss\u001b[0m \u001b[1;33m=\u001b[0m \u001b[0mmodel_train_predict\u001b[0m\u001b[1;33m(\u001b[0m\u001b[0mmodel\u001b[0m\u001b[1;33m,\u001b[0m \u001b[0mtrain_loader\u001b[0m\u001b[1;33m,\u001b[0m\u001b[0mtest_loader\u001b[0m\u001b[1;33m)\u001b[0m\u001b[1;33m\u001b[0m\u001b[1;33m\u001b[0m\u001b[0m\n\u001b[0m\u001b[0;32m      4\u001b[0m \u001b[0mprint\u001b[0m\u001b[1;33m(\u001b[0m\u001b[0mtest_loss\u001b[0m\u001b[1;33m)\u001b[0m\u001b[1;33m\u001b[0m\u001b[1;33m\u001b[0m\u001b[0m\n",
      "\u001b[1;32m<ipython-input-71-21b14ade7d0b>\u001b[0m in \u001b[0;36mmodel_train_predict\u001b[1;34m(model, train_loader, test_loader)\u001b[0m\n\u001b[0;32m     10\u001b[0m     \u001b[0mlosses\u001b[0m \u001b[1;33m=\u001b[0m \u001b[1;33m{\u001b[0m\u001b[1;34m'train'\u001b[0m\u001b[1;33m:\u001b[0m \u001b[1;33m[\u001b[0m\u001b[1;33m]\u001b[0m\u001b[1;33m,\u001b[0m \u001b[1;34m'test'\u001b[0m\u001b[1;33m:\u001b[0m \u001b[1;33m[\u001b[0m\u001b[1;33m]\u001b[0m\u001b[1;33m}\u001b[0m\u001b[1;33m\u001b[0m\u001b[1;33m\u001b[0m\u001b[0m\n\u001b[0;32m     11\u001b[0m     \u001b[1;32mfor\u001b[0m \u001b[0mepoch_idx\u001b[0m \u001b[1;32min\u001b[0m \u001b[0mrange\u001b[0m\u001b[1;33m(\u001b[0m\u001b[1;36m120\u001b[0m\u001b[1;33m)\u001b[0m\u001b[1;33m:\u001b[0m\u001b[1;33m\u001b[0m\u001b[1;33m\u001b[0m\u001b[0m\n\u001b[1;32m---> 12\u001b[1;33m         \u001b[0mtrain_loss\u001b[0m \u001b[1;33m=\u001b[0m \u001b[0mtrain_epoch\u001b[0m\u001b[1;33m(\u001b[0m\u001b[0mmodel\u001b[0m\u001b[1;33m,\u001b[0m \u001b[0mtrain_loader\u001b[0m\u001b[1;33m,\u001b[0m \u001b[0moptimizer\u001b[0m\u001b[1;33m,\u001b[0m \u001b[0mcriterion\u001b[0m\u001b[1;33m)\u001b[0m\u001b[1;33m\u001b[0m\u001b[1;33m\u001b[0m\u001b[0m\n\u001b[0m\u001b[0;32m     13\u001b[0m         \u001b[0mtest_loss\u001b[0m \u001b[1;33m=\u001b[0m \u001b[0mevaluate\u001b[0m\u001b[1;33m(\u001b[0m\u001b[0mmodel\u001b[0m\u001b[1;33m,\u001b[0m \u001b[0mtest_loader\u001b[0m\u001b[1;33m,\u001b[0m \u001b[0mcriterion\u001b[0m\u001b[1;33m)\u001b[0m\u001b[1;33m\u001b[0m\u001b[1;33m\u001b[0m\u001b[0m\n\u001b[0;32m     14\u001b[0m         \u001b[0mlosses\u001b[0m\u001b[1;33m[\u001b[0m\u001b[1;34m'train'\u001b[0m\u001b[1;33m]\u001b[0m\u001b[1;33m.\u001b[0m\u001b[0mappend\u001b[0m\u001b[1;33m(\u001b[0m\u001b[0mtrain_loss\u001b[0m\u001b[1;33m)\u001b[0m\u001b[1;33m\u001b[0m\u001b[1;33m\u001b[0m\u001b[0m\n",
      "\u001b[1;32m<ipython-input-22-5acf08c45a73>\u001b[0m in \u001b[0;36mtrain_epoch\u001b[1;34m(model, dataloader, optimizer, criterion)\u001b[0m\n\u001b[0;32m      5\u001b[0m         \u001b[0mx\u001b[0m\u001b[1;33m,\u001b[0m \u001b[0my\u001b[0m \u001b[1;33m=\u001b[0m \u001b[0mbatch\u001b[0m\u001b[1;33m[\u001b[0m\u001b[1;34m'x'\u001b[0m\u001b[1;33m]\u001b[0m\u001b[1;33m,\u001b[0m \u001b[0mbatch\u001b[0m\u001b[1;33m[\u001b[0m\u001b[1;34m'y'\u001b[0m\u001b[1;33m]\u001b[0m\u001b[1;33m\u001b[0m\u001b[1;33m\u001b[0m\u001b[0m\n\u001b[0;32m      6\u001b[0m         \u001b[0moptimizer\u001b[0m\u001b[1;33m.\u001b[0m\u001b[0mzero_grad\u001b[0m\u001b[1;33m(\u001b[0m\u001b[1;33m)\u001b[0m\u001b[1;33m\u001b[0m\u001b[1;33m\u001b[0m\u001b[0m\n\u001b[1;32m----> 7\u001b[1;33m         \u001b[0moutputs\u001b[0m \u001b[1;33m=\u001b[0m \u001b[0mmodel\u001b[0m\u001b[1;33m(\u001b[0m\u001b[0mx\u001b[0m\u001b[1;33m)\u001b[0m\u001b[1;33m\u001b[0m\u001b[1;33m\u001b[0m\u001b[0m\n\u001b[0m\u001b[0;32m      8\u001b[0m         \u001b[0mloss\u001b[0m \u001b[1;33m=\u001b[0m \u001b[0mcriterion\u001b[0m\u001b[1;33m(\u001b[0m\u001b[0moutputs\u001b[0m\u001b[1;33m,\u001b[0m \u001b[0my\u001b[0m\u001b[1;33m.\u001b[0m\u001b[0mlong\u001b[0m\u001b[1;33m(\u001b[0m\u001b[1;33m)\u001b[0m\u001b[1;33m)\u001b[0m\u001b[1;33m\u001b[0m\u001b[1;33m\u001b[0m\u001b[0m\n\u001b[0;32m      9\u001b[0m         \u001b[0mloss\u001b[0m\u001b[1;33m.\u001b[0m\u001b[0mbackward\u001b[0m\u001b[1;33m(\u001b[0m\u001b[1;33m)\u001b[0m\u001b[1;33m\u001b[0m\u001b[1;33m\u001b[0m\u001b[0m\n",
      "\u001b[1;32m~\\anaconda3\\lib\\site-packages\\torch\\nn\\modules\\module.py\u001b[0m in \u001b[0;36m_call_impl\u001b[1;34m(self, *input, **kwargs)\u001b[0m\n\u001b[0;32m   1049\u001b[0m         if not (self._backward_hooks or self._forward_hooks or self._forward_pre_hooks or _global_backward_hooks\n\u001b[0;32m   1050\u001b[0m                 or _global_forward_hooks or _global_forward_pre_hooks):\n\u001b[1;32m-> 1051\u001b[1;33m             \u001b[1;32mreturn\u001b[0m \u001b[0mforward_call\u001b[0m\u001b[1;33m(\u001b[0m\u001b[1;33m*\u001b[0m\u001b[0minput\u001b[0m\u001b[1;33m,\u001b[0m \u001b[1;33m**\u001b[0m\u001b[0mkwargs\u001b[0m\u001b[1;33m)\u001b[0m\u001b[1;33m\u001b[0m\u001b[1;33m\u001b[0m\u001b[0m\n\u001b[0m\u001b[0;32m   1052\u001b[0m         \u001b[1;31m# Do not call functions when jit is used\u001b[0m\u001b[1;33m\u001b[0m\u001b[1;33m\u001b[0m\u001b[1;33m\u001b[0m\u001b[0m\n\u001b[0;32m   1053\u001b[0m         \u001b[0mfull_backward_hooks\u001b[0m\u001b[1;33m,\u001b[0m \u001b[0mnon_full_backward_hooks\u001b[0m \u001b[1;33m=\u001b[0m \u001b[1;33m[\u001b[0m\u001b[1;33m]\u001b[0m\u001b[1;33m,\u001b[0m \u001b[1;33m[\u001b[0m\u001b[1;33m]\u001b[0m\u001b[1;33m\u001b[0m\u001b[1;33m\u001b[0m\u001b[0m\n",
      "\u001b[1;31mTypeError\u001b[0m: forward() missing 1 required positional argument: 'x'"
     ]
    }
   ],
   "source": [
    "# RNN\n",
    "model = RNN()\n",
    "test_loss = model_train_predict(model, train_loader,test_loader)\n",
    "print(test_loss)"
   ]
  },
  {
   "cell_type": "code",
   "execution_count": null,
   "id": "b0fb9ada-7cd5-4010-9118-82f5a8cb0d60",
   "metadata": {},
   "outputs": [],
   "source": [
    "from model.kdd import * "
   ]
  },
  {
   "cell_type": "code",
   "execution_count": null,
   "id": "a5ef16dc-12da-4a54-b121-2a3380cd2d9e",
   "metadata": {},
   "outputs": [],
   "source": []
  }
 ],
 "metadata": {
  "kernelspec": {
   "display_name": "Python 3",
   "language": "python",
   "name": "python3"
  },
  "language_info": {
   "codemirror_mode": {
    "name": "ipython",
    "version": 3
   },
   "file_extension": ".py",
   "mimetype": "text/x-python",
   "name": "python",
   "nbconvert_exporter": "python",
   "pygments_lexer": "ipython3",
   "version": "3.7.6"
  }
 },
 "nbformat": 4,
 "nbformat_minor": 5
}
