{
 "cells": [
  {
   "cell_type": "code",
   "execution_count": 16,
   "id": "6b401fe1-825f-4e7a-a85c-6a7a2d7860a9",
   "metadata": {},
   "outputs": [],
   "source": [
    "import pandas as pd \n",
    "import numpy as np \n",
    "from datetime import datetime, timedelta\n",
    "import random\n",
    "from tqdm import tqdm\n",
    "import os\n",
    "from desc_by_py import *\n",
    "\n",
    "%matplotlib inline"
   ]
  },
  {
   "cell_type": "code",
   "execution_count": null,
   "id": "338dd292-cc63-4ff6-ba25-871c04751661",
   "metadata": {},
   "outputs": [],
   "source": []
  },
  {
   "cell_type": "code",
   "execution_count": null,
   "id": "8a543edc-da99-4d57-8259-0193609e7243",
   "metadata": {},
   "outputs": [],
   "source": [
    "def data_analysis(data, year, res_path):\n",
    "    data['year'] =year\n",
    "    \n",
    "    # 提取时间特征 \n",
    "    df = pd.DataFrame()\n",
    "    df['first_time_seen'] = data_2015.groupby(['year','model','serial_number'])['date'].min()\n",
    "    df['last_time_seen'] = data_2015.groupby(['year','model','serial_number'])['date'].max()\n",
    "    df['failure'] = data_2015.groupby(['year','model','serial_number'])['failure'].max()\n",
    "    df.reset_index(drop=True, inplace=True)\n",
    "    \n",
    "    tmp_failure = pd.DataFrame()\n",
    "    tmp_failure['failure_date'] = data_2015[data_2015.failure==1].groupby(['serial_number'])['date'].min()\n",
    "    tmp_failure.reset_index(drop=True, inplace=True)\n",
    "    \n",
    "    stats_data = pd.merge(df, tmp_failure, how='left', on='serial_number')\n",
    "    \n",
    "    # stats_data.to_csv(res_path+'stats_'+year+'.csv',index=False)\n",
    "    \n",
    "    return stats_data\n",
    "\n",
    "\n",
    "def convert_str2date(line):\n",
    "    return datetime.strptime(line, \"%Y-%m-%d\")\n",
    "\n",
    "\n",
    "def convert_date2str(d):\n",
    "    return d.strftime(\"%Y-%m-%d\")\n",
    "\n",
    "def remove_days(date, days):\n",
    "    date = convert_str2date(date)\n",
    "    return convert_date2str(date - timedelta(days=days))\n"
   ]
  },
  {
   "cell_type": "code",
   "execution_count": null,
   "id": "4dc0a20f-6f5f-4f6e-8bd0-d380aba75e34",
   "metadata": {},
   "outputs": [],
   "source": [
    "# stats_2015 = data_analysis(data_2015, '2015', res_path)\n",
    "# stats_2016 = data_analysis(data_2016, '2016', res_path)\n",
    "# stats_2017 = data_analysis(data_2017, '2017', res_path)\n",
    "# stats_2018 = data_analysis(data_2018, '2018', res_path)"
   ]
  },
  {
   "cell_type": "code",
   "execution_count": 28,
   "id": "a417eaf7-47ca-40bd-9e50-1f9fe8a3e620",
   "metadata": {},
   "outputs": [],
   "source": []
  }
 ],
 "metadata": {
  "kernelspec": {
   "display_name": "Python 3",
   "language": "python",
   "name": "python3"
  },
  "language_info": {
   "codemirror_mode": {
    "name": "ipython",
    "version": 3
   },
   "file_extension": ".py",
   "mimetype": "text/x-python",
   "name": "python",
   "nbconvert_exporter": "python",
   "pygments_lexer": "ipython3",
   "version": "3.7.6"
  }
 },
 "nbformat": 4,
 "nbformat_minor": 5
}
